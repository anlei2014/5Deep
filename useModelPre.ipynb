{
 "cells": [
  {
   "cell_type": "code",
   "execution_count": 1,
   "metadata": {},
   "outputs": [
    {
     "name": "stderr",
     "output_type": "stream",
     "text": [
      "Using TensorFlow backend.\n"
     ]
    }
   ],
   "source": [
    "import os\n",
    "from keras.models import load_model\n",
    "import numpy as np\n",
    "from PIL import Image\n",
    "import cv2\n",
    "\n",
    "# 解决使用CUP运行时的问题\n",
    "import os\n",
    "os.environ['KMP_DUPLICATE_LIB_OK']='True'"
   ]
  },
  {
   "cell_type": "code",
   "execution_count": 2,
   "metadata": {},
   "outputs": [
    {
     "name": "stdout",
     "output_type": "stream",
     "text": [
      "Model: \"sequential_13\"\n",
      "_________________________________________________________________\n",
      "Layer (type)                 Output Shape              Param #   \n",
      "=================================================================\n",
      "conv2d_34 (Conv2D)           (None, 222, 222, 32)      896       \n",
      "_________________________________________________________________\n",
      "max_pooling2d_28 (MaxPooling (None, 111, 111, 32)      0         \n",
      "_________________________________________________________________\n",
      "dropout_30 (Dropout)         (None, 111, 111, 32)      0         \n",
      "_________________________________________________________________\n",
      "conv2d_35 (Conv2D)           (None, 109, 109, 32)      9248      \n",
      "_________________________________________________________________\n",
      "max_pooling2d_29 (MaxPooling (None, 54, 54, 32)        0         \n",
      "_________________________________________________________________\n",
      "dropout_31 (Dropout)         (None, 54, 54, 32)        0         \n",
      "_________________________________________________________________\n",
      "conv2d_36 (Conv2D)           (None, 52, 52, 64)        18496     \n",
      "_________________________________________________________________\n",
      "dropout_32 (Dropout)         (None, 52, 52, 64)        0         \n",
      "_________________________________________________________________\n",
      "flatten_12 (Flatten)         (None, 173056)            0         \n",
      "_________________________________________________________________\n",
      "dense_23 (Dense)             (None, 64)                11075648  \n",
      "_________________________________________________________________\n",
      "dropout_33 (Dropout)         (None, 64)                0         \n",
      "_________________________________________________________________\n",
      "dense_24 (Dense)             (None, 10)                650       \n",
      "=================================================================\n",
      "Total params: 11,104,938\n",
      "Trainable params: 11,104,938\n",
      "Non-trainable params: 0\n",
      "_________________________________________________________________\n"
     ]
    }
   ],
   "source": [
    "model = load_model(\"5DEEP.h5\")\n",
    "model.summary()"
   ]
  },
  {
   "cell_type": "code",
   "execution_count": 3,
   "metadata": {},
   "outputs": [],
   "source": [
    "#规范化图片大小和像素值\n",
    "def get_inputs(src=[]):\n",
    "    pre_x = []\n",
    "    for s in src:\n",
    "        input = cv2.imread(s)\n",
    "        input = cv2.resize(input, (224, 224))\n",
    "        input = cv2.cvtColor(input, cv2.COLOR_BGR2RGB)\n",
    "        pre_x.append(input)  # input一张图片\n",
    "    pre_x = np.array(pre_x) / 255.0\n",
    "    return pre_x"
   ]
  },
  {
   "cell_type": "code",
   "execution_count": 4,
   "metadata": {},
   "outputs": [],
   "source": [
    "#要预测的图片保存在这里\n",
    "predict_dir = '/Users/anlei/Documents/AllCode/Jupyter/5DEEP/5Deep-final/5pre/'"
   ]
  },
  {
   "cell_type": "code",
   "execution_count": 5,
   "metadata": {},
   "outputs": [],
   "source": [
    "#这个路径下有两个文件，分别是cat和dog\n",
    "test = os.listdir(predict_dir)"
   ]
  },
  {
   "cell_type": "code",
   "execution_count": 6,
   "metadata": {},
   "outputs": [
    {
     "name": "stdout",
     "output_type": "stream",
     "text": [
      "['cat', 'wolf']\n"
     ]
    }
   ],
   "source": [
    "#打印后：['cat', 'dog']\n",
    "print(test)"
   ]
  },
  {
   "cell_type": "code",
   "execution_count": 7,
   "metadata": {},
   "outputs": [
    {
     "name": "stdout",
     "output_type": "stream",
     "text": [
      "/Users/anlei/Documents/AllCode/Jupyter/5DEEP/5Deep-final/5pre/cat/cat2.jpg\n",
      "/Users/anlei/Documents/AllCode/Jupyter/5DEEP/5Deep-final/5pre/cat/cat.jpg\n"
     ]
    }
   ],
   "source": [
    "#新建一个列表保存预测图片的地址\n",
    "images = []\n",
    "#获取每张图片的地址，并保存在列表images中\n",
    "for testpath in test:\n",
    "    for fn in os.listdir(os.path.join(predict_dir, testpath)):\n",
    "        if fn.endswith('jpg'):\n",
    "            fd = os.path.join(predict_dir, testpath, fn)\n",
    "            print(fd)\n",
    "            images.append(fd)"
   ]
  },
  {
   "cell_type": "code",
   "execution_count": 8,
   "metadata": {},
   "outputs": [],
   "source": [
    "#调用函数，规范化图片\n",
    "pre_x = get_inputs(images)"
   ]
  },
  {
   "cell_type": "code",
   "execution_count": 9,
   "metadata": {},
   "outputs": [
    {
     "name": "stdout",
     "output_type": "stream",
     "text": [
      "[[0.1672087  0.19135526 0.24056439 0.2121862  0.01877003 0.07924388\n",
      "  0.01490526 0.0009164  0.04525875 0.02959117]\n",
      " [0.2247584  0.0485712  0.0653334  0.05377164 0.00820174 0.02174445\n",
      "  0.00460812 0.12124873 0.27387902 0.1778833 ]]\n"
     ]
    }
   ],
   "source": [
    "#预测\n",
    "pre_y = model.predict(pre_x)\n",
    "print(pre_y)"
   ]
  },
  {
   "cell_type": "code",
   "execution_count": null,
   "metadata": {},
   "outputs": [],
   "source": []
  }
 ],
 "metadata": {
  "kernelspec": {
   "display_name": "Python 3",
   "language": "python",
   "name": "python3"
  },
  "language_info": {
   "codemirror_mode": {
    "name": "ipython",
    "version": 3
   },
   "file_extension": ".py",
   "mimetype": "text/x-python",
   "name": "python",
   "nbconvert_exporter": "python",
   "pygments_lexer": "ipython3",
   "version": "3.7.9"
  }
 },
 "nbformat": 4,
 "nbformat_minor": 4
}
