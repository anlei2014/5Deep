{
 "cells": [
  {
   "cell_type": "code",
   "execution_count": 26,
   "metadata": {},
   "outputs": [],
   "source": [
    "# 读取图像信息\n",
    "import shutil\n",
    "import os\n",
    "\n",
    "\n",
    "training_path = '/Users/anlei/Documents/AllCode/Jupyter/5DEEP/5Deep-final/images5DEEP/raw_image/training/'\n",
    "train_data_path = '/Users/anlei/Documents/AllCode/Jupyter/5DEEP/5Deep-final/images5DEEP/raw_image/train_data/'\n",
    "dirs = os.listdir(training_path)\n",
    "for item in dirs:\n",
    "    item_label = item.split('_')[0]\n",
    "    des_path = train_data_path+item_label\n",
    "    if not os.path.exists(des_path):\n",
    "        os.makedirs(des_path)\n",
    "    shutil.copyfile(os.path.join(training_path, item), os.path.join(des_path, item))\n",
    "\n",
    "\n",
    "testing_path = '/Users/anlei/Documents/AllCode/Jupyter/5DEEP/5Deep-final/images5DEEP/raw_image/testing/'\n",
    "test_data_path = '/Users/anlei/Documents/AllCode/Jupyter/5DEEP/5Deep-final/images5DEEP/raw_image/test_data/'\n",
    "dirs = os.listdir(testing_path)\n",
    "for item in dirs:\n",
    "    item_label = item.split('_')[0]\n",
    "    des_path = test_data_path+item_label\n",
    "    if not os.path.exists(des_path):\n",
    "        os.makedirs(des_path)\n",
    "    shutil.copyfile(os.path.join(testing_path, item), os.path.join(des_path, item))"
   ]
  },
  {
   "cell_type": "code",
   "execution_count": 27,
   "metadata": {},
   "outputs": [],
   "source": [
    "# import packages\n",
    "import tensorflow as tf\n",
    "import keras\n",
    "from keras.models import Sequential\n",
    "from keras.layers import Dense, Dropout, Activation, Flatten\n",
    "from keras.layers import Conv2D, MaxPooling2D\n",
    "\n",
    "\n",
    "# 调试  在PyCharm中显示绘图\n",
    "# import matplotlib\n",
    "# matplotlib.use('Agg')\n",
    "# 图像增强\n",
    "from keras.preprocessing.image import ImageDataGenerator\n",
    "\n",
    "# 解决使用CUP运行时的问题\n",
    "import os\n",
    "os.environ['KMP_DUPLICATE_LIB_OK']='True'"
   ]
  },
  {
   "cell_type": "code",
   "execution_count": 28,
   "metadata": {},
   "outputs": [],
   "source": [
    "\n",
    "train_data_path = '/Users/anlei/Documents/AllCode/Jupyter/5DEEP/5Deep-final/images5DEEP/raw_image/train_data/'\n",
    "test_data_path = '/Users/anlei/Documents/AllCode/Jupyter/5DEEP/5Deep-final/images5DEEP/raw_image/test_data/'"
   ]
  },
  {
   "cell_type": "code",
   "execution_count": 29,
   "metadata": {},
   "outputs": [
    {
     "name": "stdout",
     "output_type": "stream",
     "text": [
      "Found 50000 images belonging to 10 classes.\n",
      "Found 5000 images belonging to 10 classes.\n"
     ]
    }
   ],
   "source": [
    "# 声明一个ImageDataGenerator类对象，并给出你需要进行的数据增强选项\n",
    "train_datagen = ImageDataGenerator(\n",
    "        rescale=1./255,\n",
    "        shear_range=0.2,\n",
    "        zoom_range=0.2,\n",
    "        horizontal_flip=True)\n",
    "# 调用.flow_from_director()方法，第一个为数据集路径。生成数据集及标签\n",
    "train_generator = train_datagen.flow_from_directory(\n",
    "        train_data_path,\n",
    "        target_size=(224, 224),\n",
    "        batch_size=32,\n",
    "        class_mode='categorical')\n",
    "# 用同样的方法加载测试集\n",
    "test_datagen = ImageDataGenerator(\n",
    "        rescale=1./255,\n",
    "        shear_range=0.2,\n",
    "        zoom_range=0.2,\n",
    "        horizontal_flip=True)\n",
    "test_generator = test_datagen.flow_from_directory(\n",
    "        test_data_path,\n",
    "        target_size=(224, 224),\n",
    "        batch_size=32,\n",
    "        class_mode='categorical')\n",
    "\n",
    "\n"
   ]
  },
  {
   "cell_type": "code",
   "execution_count": 44,
   "metadata": {},
   "outputs": [],
   "source": [
    "\n",
    "#电脑实在跑不动了。。。。调整了参数减短训练时间。。\n",
    "batch_size = 256\n",
    "num_classes = 10\n",
    "epochs = 10\n",
    "\n",
    "model = Sequential()\n",
    "model.add(Conv2D(32, kernel_size=(3, 3),\n",
    "                 activation='relu',\n",
    "                 input_shape=(224,224,3)))\n",
    "model.add(MaxPooling2D((2, 2)))\n",
    "model.add(Dropout(0.25))\n",
    "model.add(Conv2D(32, (3, 3), activation='relu'))\n",
    "model.add(MaxPooling2D(pool_size=(2, 2)))\n",
    "model.add(Dropout(0.25))\n",
    "model.add(Conv2D(64, (3, 3), activation='relu'))\n",
    "model.add(Dropout(0.4))\n",
    "model.add(Flatten())\n",
    "model.add(Dense(64, activation='relu'))\n",
    "model.add(Dropout(0.3))\n",
    "model.add(Dense(num_classes, activation='softmax'))\n",
    "\n",
    "model.compile(loss=keras.losses.categorical_crossentropy,\n",
    "              optimizer=keras.optimizers.Adam(),\n",
    "              metrics=['accuracy'])\n",
    "\n",
    "\n",
    "# 调整参数和相关元素\n",
    "\n",
    "# 下面参数没跑完，跑了大约25个epochs，最优大约53%，loss是1.3%\n",
    "\n",
    "# classes = 10\n",
    "# batch_size = 256\n",
    "# epochs = 50\n",
    "\n",
    "# model = Sequential()\n",
    "# model.add(Conv2D(32, (3, 3), padding='same', input_shape=(224,224,3)))\n",
    "# model.add(Activation('relu'))\n",
    "# model.add(MaxPooling2D(pool_size=(2, 2)))\n",
    "# model.add(Conv2D(64, (3, 3)))\n",
    "# model.add(Activation('relu'))\n",
    "# model.add(MaxPooling2D(pool_size=(2, 2)))\n",
    "# model.add(Conv2D(128, (3, 3), padding='same'))\n",
    "# model.add(Activation('relu'))\n",
    "# model.add(MaxPooling2D(pool_size=(2, 2)))\n",
    "\n",
    "# model.add(Flatten())\n",
    "# model.add(Dense(128))\n",
    "# model.add(Activation('relu'))\n",
    "# model.add(Dropout(0.5))\n",
    "# model.add(Dense(classes_num))\n",
    "# model.add(Activation('softmax'))\n",
    "\n",
    "# 编译\n",
    "# 损失函数 loss：模型试图最小化的目标函数。它可以是现有损失函数的字符串标识符\n",
    "# 优化器 optimizer：它可以是现有优化器的字符串标识符，如 rmsprop 或 adagrad，也可以是 Optimizer 类的实例  \n",
    "# Adam 优化器   keras.optimizers.Adam(lr=0.001, beta_1=0.9, beta_2=0.999, epsilon=None, decay=0.0, amsgrad=False)\n",
    "# 评估标准 metrics：对于任何分类问题，你都希望将其设置为 metrics = ['accuracy']。评估标准可以是现有的标准的字符串标识符，\n",
    "# 也可以是自定义的评估标准函数。\n",
    "# opt = keras.optimizers.rmsprop(lr=0.01, decay=1e-6)\n",
    "\n",
    "model.compile(loss=keras.losses.categorical_crossentropy, \n",
    "              optimizer=keras.optimizers.Adam(), \n",
    "              metrics=['accuracy'])"
   ]
  },
  {
   "cell_type": "code",
   "execution_count": 45,
   "metadata": {},
   "outputs": [
    {
     "name": "stdout",
     "output_type": "stream",
     "text": [
      "Model: \"sequential_13\"\n",
      "_________________________________________________________________\n",
      "Layer (type)                 Output Shape              Param #   \n",
      "=================================================================\n",
      "conv2d_34 (Conv2D)           (None, 222, 222, 32)      896       \n",
      "_________________________________________________________________\n",
      "max_pooling2d_28 (MaxPooling (None, 111, 111, 32)      0         \n",
      "_________________________________________________________________\n",
      "dropout_30 (Dropout)         (None, 111, 111, 32)      0         \n",
      "_________________________________________________________________\n",
      "conv2d_35 (Conv2D)           (None, 109, 109, 32)      9248      \n",
      "_________________________________________________________________\n",
      "max_pooling2d_29 (MaxPooling (None, 54, 54, 32)        0         \n",
      "_________________________________________________________________\n",
      "dropout_31 (Dropout)         (None, 54, 54, 32)        0         \n",
      "_________________________________________________________________\n",
      "conv2d_36 (Conv2D)           (None, 52, 52, 64)        18496     \n",
      "_________________________________________________________________\n",
      "dropout_32 (Dropout)         (None, 52, 52, 64)        0         \n",
      "_________________________________________________________________\n",
      "flatten_12 (Flatten)         (None, 173056)            0         \n",
      "_________________________________________________________________\n",
      "dense_23 (Dense)             (None, 64)                11075648  \n",
      "_________________________________________________________________\n",
      "dropout_33 (Dropout)         (None, 64)                0         \n",
      "_________________________________________________________________\n",
      "dense_24 (Dense)             (None, 10)                650       \n",
      "=================================================================\n",
      "Total params: 11,104,938\n",
      "Trainable params: 11,104,938\n",
      "Non-trainable params: 0\n",
      "_________________________________________________________________\n"
     ]
    }
   ],
   "source": [
    "# 模型的总结\n",
    "model.summary()"
   ]
  },
  {
   "cell_type": "code",
   "execution_count": 46,
   "metadata": {},
   "outputs": [
    {
     "name": "stdout",
     "output_type": "stream",
     "text": [
      "Epoch 1/10\n",
      "256/256 [==============================] - 241s 942ms/step - loss: 2.3727 - accuracy: 0.1052 - val_loss: 2.2989 - val_accuracy: 0.1498\n",
      "Epoch 2/10\n",
      "256/256 [==============================] - 246s 960ms/step - loss: 2.2444 - accuracy: 0.1610 - val_loss: 2.0559 - val_accuracy: 0.1966\n",
      "Epoch 3/10\n",
      "256/256 [==============================] - 239s 935ms/step - loss: 2.1567 - accuracy: 0.2171 - val_loss: 2.0477 - val_accuracy: 0.2676\n",
      "Epoch 4/10\n",
      "256/256 [==============================] - 245s 957ms/step - loss: 2.0784 - accuracy: 0.2499 - val_loss: 1.9379 - val_accuracy: 0.2682\n",
      "Epoch 5/10\n",
      "256/256 [==============================] - 241s 941ms/step - loss: 2.0228 - accuracy: 0.2722 - val_loss: 2.0380 - val_accuracy: 0.2770\n",
      "Epoch 6/10\n",
      "256/256 [==============================] - 238s 931ms/step - loss: 1.9705 - accuracy: 0.2841 - val_loss: 1.8619 - val_accuracy: 0.3140\n",
      "Epoch 7/10\n",
      "256/256 [==============================] - 240s 937ms/step - loss: 1.8988 - accuracy: 0.3188 - val_loss: 2.3376 - val_accuracy: 0.3504\n",
      "Epoch 8/10\n",
      "256/256 [==============================] - 238s 930ms/step - loss: 1.8182 - accuracy: 0.3508 - val_loss: 1.5300 - val_accuracy: 0.3916\n",
      "Epoch 9/10\n",
      "256/256 [==============================] - 238s 931ms/step - loss: 1.8128 - accuracy: 0.3481 - val_loss: 1.6436 - val_accuracy: 0.4052\n",
      "Epoch 10/10\n",
      "256/256 [==============================] - 239s 935ms/step - loss: 1.7768 - accuracy: 0.3538 - val_loss: 1.4147 - val_accuracy: 0.4182\n"
     ]
    }
   ],
   "source": [
    "history = model.fit_generator(train_generator, \n",
    "                           steps_per_epoch=batch_size, \n",
    "                           epochs=epochs,\n",
    "                           verbose=1,\n",
    "                           validation_data=test_generator, \n",
    "                           shuffle=True)\n",
    "score = model.evaluate(test_generator, verbose=0)"
   ]
  },
  {
   "cell_type": "code",
   "execution_count": 51,
   "metadata": {},
   "outputs": [],
   "source": [
    "# 保存模型\n",
    "# 它保存了模型的图结构，但应该又保存模型的初始化参数\n",
    "model.save('5DEEP.h5')\n",
    "# 它只保存了模型的参数，但并没有保存模型的图结构\n",
    "model.save_weights('5DEEP-weights.h5')"
   ]
  },
  {
   "cell_type": "code",
   "execution_count": 48,
   "metadata": {},
   "outputs": [
    {
     "name": "stdout",
     "output_type": "stream",
     "text": [
      "Test loss 1.105835199356079\n",
      "Test accuracy 0.41280001401901245\n"
     ]
    }
   ],
   "source": [
    "# 打印  loss和acc\n",
    "print('Test loss', score[0])\n",
    "print('Test accuracy',score[1])"
   ]
  },
  {
   "cell_type": "code",
   "execution_count": 50,
   "metadata": {},
   "outputs": [
    {
     "data": {
      "image/png": "[encoded data removed]",
      "text/plain": [
       "<Figure size 432x288 with 1 Axes>"
      ]
     },
     "metadata": {
      "needs_background": "light"
     },
     "output_type": "display_data"
    },
    {
     "data": {
      "image/png": "[encoded data removed]",
      "text/plain": [
       "<Figure size 432x288 with 1 Axes>"
      ]
     },
     "metadata": {
      "needs_background": "light"
     },
     "output_type": "display_data"
    }
   ],
   "source": [
    "# 绘图\n",
    "import matplotlib.pyplot as plt\n",
    "%matplotlib inline\n",
    "\n",
    "accuracy = history.history['accuracy']\n",
    "val_accuracy = history.history['val_accuracy']\n",
    "loss = history.history['loss']\n",
    "val_loss = history.history['val_loss']\n",
    "epochs = range(len(accuracy))\n",
    "plt.plot(epochs, accuracy, label='Training accuracy')\n",
    "plt.plot(epochs, val_accuracy, label='Validation accuracy')\n",
    "plt.title('Training and validation accuracy')\n",
    "plt.legend()\n",
    "plt.figure()\n",
    "plt.plot(epochs, loss, label='Training loss')\n",
    "plt.plot(epochs, val_loss, label='Validation loss')\n",
    "plt.title('Training and validation loss')\n",
    "plt.legend()\n",
    "plt.show()"
   ]
  },
  {
   "cell_type": "code",
   "execution_count": null,
   "metadata": {},
   "outputs": [],
   "source": []
  }
 ],
 "metadata": {
  "kernelspec": {
   "display_name": "Python 3",
   "language": "python",
   "name": "python3"
  },
  "language_info": {
   "codemirror_mode": {
    "name": "ipython",
    "version": 3
   },
   "file_extension": ".py",
   "mimetype": "text/x-python",
   "name": "python",
   "nbconvert_exporter": "python",
   "pygments_lexer": "ipython3",
   "version": "3.7.9"
  }
 },
 "nbformat": 4,
 "nbformat_minor": 4
}
